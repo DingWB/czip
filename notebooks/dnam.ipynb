{
 "cells": [
  {
   "cell_type": "markdown",
   "id": "f327506e-eac6-41d8-8583-6523237b5868",
   "metadata": {},
   "source": [
    "# Store and analyze single cell DNA methylation data using czip"
   ]
  },
  {
   "cell_type": "raw",
   "id": "d9db2652-1e00-4f38-ba32-d76b235d8ee6",
   "metadata": {},
   "source": [
    "Assuming we have single cell DNA methylationd data with thousands of cells. In each cell, we have one allc file:\n",
    "chr1    3001733 +       CTG     0       1       1\n",
    "chr1    3001743 +       CAA     0       1       1\n",
    "chr1    3001746 +       CCT     0       1       1\n",
    "chr1    3001747 +       CTG     0       1       1\n",
    "chr1    3001752 +       CTG     0       1       1\n",
    "chr1    3001758 +       CTT     0       1       1\n",
    "chr1    3001761 +       CTG     0       1       1\n",
    "chr1    3001764 +       CTT     0       1       1\n",
    "chr1    3001768 +       CTT     0       1       1\n",
    "chr1    3001776 +       CTG     0       1       1\n",
    "Columns are chrom, position, strand, context, mc (methylated count), cov (coverage) and fraction.\n",
    "The first four columns are shared among all cells, in this case, we don't need to store this redundant information for each cell, we can separate the reference and cell data and only store the mc and cov for each cell.\n",
    "However, we can still query and view allc with reference information."
   ]
  },
  {
   "cell_type": "markdown",
   "id": "6915c867",
   "metadata": {},
   "source": [
    "## Generate allc coordinate reference .cz file"
   ]
  },
  {
   "cell_type": "raw",
   "id": "2e305dfb-87a8-4726-809e-89a02158ef58",
   "metadata": {},
   "source": [
    "czip AllC -G ~/Ref/mm10/mm10_ucsc_with_chrL.fa -O mm10_with_chrL.allc.cz -n 20 run\n",
    "# took 15 minutes using 20 cpus\n",
    "\n",
    "# create subset index for all CG (including forward and reverse strand)\n",
    "czip generate_ssi mm10_with_chrL.allc.cz -p CGN -o mm10_with_chrL.allc.cz.CGN.ssi\n",
    "# took about 5 minutes with 1 core\n",
    "\n",
    "# create subset index for all CG (forward strand only)\n",
    "czip generate_ssi mm10_with_chrL.allc.cz -p +CGN -o mm10_with_chrL.allc.cz.CGN.forward.ssi\n",
    "# about 5 minutes\n",
    "\n",
    "# using forward CG subset index to extract forward strand CG coordinates from reference\n",
    "czip extract -i mm10_with_chrL.allc.cz -s mm10_with_chrL.allc.cz.CGN.forward.ssi -o mm10_with_chrL.allCG.forward.cz\n",
    "# about 1m23.855s"
   ]
  },
  {
   "cell_type": "markdown",
   "id": "83c2d5dc-9010-4815-9d40-5d8b28c9ea53",
   "metadata": {},
   "source": [
    "Actually, *.ssi is also a czip file, we can view .ssi using `czip Reader -I *.ssi view -s 0`"
   ]
  },
  {
   "cell_type": "markdown",
   "id": "dda85669",
   "metadata": {},
   "source": [
    "## View reference .cz file"
   ]
  },
  {
   "cell_type": "markdown",
   "id": "9e94bade-55d3-40a5-869b-a282e34a5868",
   "metadata": {
    "tags": []
   },
   "source": [
    "### view header"
   ]
  },
  {
   "cell_type": "raw",
   "id": "3022564e-ac64-4f05-bd09-ef3d64f0e8fc",
   "metadata": {},
   "source": [
    "czip Reader -I mm10_with_chrL.allc.cz print_header"
   ]
  },
  {
   "cell_type": "raw",
   "id": "81e0af1e-97c6-4b2d-a41a-8a3ebef023d2",
   "metadata": {},
   "source": [
    "magic  :  b'BMZIP'\n",
    "version  :  1.0\n",
    "total_size  :  3074591556\n",
    "message  :  /home/x-wding2/Ref/mm10/mm10_ucsc_with_chrL.fa\n",
    "Formats  :  ['Q', 'c', '3s']\n",
    "Columns  :  ['pos', 'strand', 'context']\n",
    "Dimensions  :  ['chrom']\n",
    "header_size  :  99"
   ]
  },
  {
   "cell_type": "markdown",
   "id": "e81d5aaf-863f-4537-bd08-0fd81a7abd07",
   "metadata": {
    "tags": []
   },
   "source": [
    "### summary chunks"
   ]
  },
  {
   "cell_type": "raw",
   "id": "700bf96c-e40b-4fb0-bd53-9098ff828667",
   "metadata": {},
   "source": [
    "czip Reader -I mm10_with_chrL.allc.cz summary_chunks | head"
   ]
  },
  {
   "cell_type": "raw",
   "id": "18f061e7-8595-4d35-8886-8fb3d7d41f9d",
   "metadata": {},
   "source": [
    "chrom   chunk_start_offset      chunk_size      chunk_tail_offset       chunk_nblocks   chunk_nrows\n",
    "chr1    99      219469648       219585440       14459   78962721\n",
    "chr10   219585440       146325915       365988449       9634    52609184\n",
    "chr11   365988449       144624498       510689185       9527    52027265\n",
    "chr12   510689185       135669225       646429920       8936    48799752\n",
    "chr13   646429920       135593184       782094542       8927    48750883\n",
    "chr14   782094542       138973134       921140930       9154    49987736\n",
    "chr15   921140930       117415601       1038618417      7733    42230765\n",
    "chr16   1038618417      108168134       1146843557      7123    38899643\n",
    "chr17   1146843557      108852498       1255753437      7170    39153472"
   ]
  },
  {
   "cell_type": "markdown",
   "id": "1b111ff3-691e-4b0b-af65-732ea91fd3df",
   "metadata": {},
   "source": [
    "Every chunk has a dimension (chrom, sample, cell types or the combination of those dimensions)"
   ]
  },
  {
   "cell_type": "markdown",
   "id": "b63fc76b",
   "metadata": {},
   "source": [
    "## Converting .allc.tsv.gz into .cz file"
   ]
  },
  {
   "cell_type": "raw",
   "id": "03060345-f21a-44a1-858d-8c8feb8f709e",
   "metadata": {},
   "source": [
    "czip bed2cz --help"
   ]
  },
  {
   "cell_type": "raw",
   "id": "4329e02a-658b-427a-9d26-08dacc1ebd84",
   "metadata": {},
   "source": [
    "INFO: Showing help with the command 'czip bed2cz -- --help'.\n",
    "\n",
    "NAME\n",
    "    czip bed2cz - convert allc.tsv.gz to .cz file.\n",
    "\n",
    "SYNOPSIS\n",
    "    czip bed2cz ALLC_PATH OUTFILE <flags>\n",
    "\n",
    "DESCRIPTION\n",
    "    convert allc.tsv.gz to .cz file.\n",
    "\n",
    "POSITIONAL ARGUMENTS\n",
    "    ALLC_PATH\n",
    "        path to allc.tsv.gz, should has .tbi index.\n",
    "    OUTFILE\n",
    "        output .cz file\n",
    "\n",
    "FLAGS\n",
    "    -r, --reference=REFERENCE\n",
    "        Type: Optional[]\n",
    "        Default: None\n",
    "        path to reference coordinates.\n",
    "    -m, --missing_value=MISSING_VALUE\n",
    "        Default: [0, 0]\n",
    "    --pr=PR\n",
    "        Default: 0\n",
    "    --pa=PA\n",
    "        Default: 1\n",
    "    -s, --sep=SEP\n",
    "        Default: '\\t'\n",
    "    -P, --Path_to_chrom=PATH_TO_CHROM\n",
    "        Type: Optional[]\n",
    "        Default: None\n",
    "        path to chrom_size path or similar file containing chromosomes order, the first columns should be chromosomes, tab separated and no header.\n",
    "    -c, --chunksize=CHUNKSIZE\n",
    "        Default: 2000\n",
    "        default is 5000\n",
    "\n",
    "NOTES\n",
    "    You can also use flags syntax for POSITIONAL ARGUMENTS"
   ]
  },
  {
   "cell_type": "markdown",
   "id": "ffac5566-1c59-4495-bacd-f48c304c9d13",
   "metadata": {},
   "source": [
    "### Pack .allc.tsv.gz to .cz with coordinates"
   ]
  },
  {
   "cell_type": "raw",
   "id": "5a9a1b4a-7685-4e17-9062-a20798ed5e71",
   "metadata": {},
   "source": [
    "czip bed2cz FC_E17a_3C_1-1-I3-F13.allc.tsv.gz FC_E17a_3C_1-1-I3-F13.with_coordinate.cz -F Q,H,H -C pos,mc,cov -u 1,4,5\n",
    "# took about 2m3.650s"
   ]
  },
  {
   "cell_type": "raw",
   "id": "baa12aa3-153a-4686-898d-ee9537337fbe",
   "metadata": {},
   "source": [
    "czip Reader -I FC_E17a_3C_1-1-I3-F13.with_coordinate.cz view -s 0 |head"
   ]
  },
  {
   "cell_type": "raw",
   "id": "49d53c21-4121-426d-a2e2-c54d00d5d81e",
   "metadata": {},
   "source": [
    "chrom   pos     mc      cov\n",
    "chr1    3001733 0       1\n",
    "chr1    3001743 0       1\n",
    "chr1    3001746 0       1\n",
    "chr1    3001747 0       1\n",
    "chr1    3001752 0       1\n",
    "chr1    3001758 0       1\n",
    "chr1    3001761 0       1\n",
    "chr1    3001764 0       1\n",
    "chr1    3001768 0       1"
   ]
  },
  {
   "cell_type": "raw",
   "id": "77aa60c9-3428-4b0d-b250-a41e0472a073",
   "metadata": {},
   "source": [
    "# query\n",
    "czip Reader -I FC_E17a_3C_1-1-I3-F13.with_coordinate.cz query -D chr9 -s 3000294 -e 3000472 | awk '$3>50'\n",
    "chrom   pos     mc      cov\n",
    "chr9    3000294 54      63\n",
    "chr9    3000342 69      85\n",
    "chr9    3000354 77      82\n",
    "chr9    3000381 52      64\n",
    "chr9    3000382 74      87\n",
    "chr9    3000399 66      67\n",
    "chr9    3000441 84      138\n",
    "chr9    3000457 139     162\n",
    "chr9    3000458 64      74\n",
    "chr9    3000472 161     183"
   ]
  },
  {
   "cell_type": "markdown",
   "id": "c7d56e17-5b1b-4c0a-83f7-dbe1255078c0",
   "metadata": {},
   "source": [
    "### Pack .allc.tsv.gz to .cz without coordinates (using reference)"
   ]
  },
  {
   "cell_type": "raw",
   "id": "1e959967-2c7f-4b2e-89d6-f670a10c4c34",
   "metadata": {},
   "source": [
    "czip bed2cz FC_E17a_3C_1-1-I3-F13.allc.tsv.gz FC_E17a_3C_1-1-I3-F13.cz -r ~/Ref/mm10/annotations/mm10_with_chrL.allc.cz\n",
    "# took 8m40.090s, it will be faster after implementing C/C++ version"
   ]
  },
  {
   "cell_type": "raw",
   "id": "5307f656-9324-4997-a3b6-5b091b3f1a8c",
   "metadata": {},
   "source": [
    "czip Reader -I FC_E17a_3C_1-1-I3-F13.cz view -s 0 |head"
   ]
  },
  {
   "cell_type": "raw",
   "id": "f910409d-d11e-4b20-bb31-3f0d8bf1dbc1",
   "metadata": {},
   "source": [
    "chrom   mc      cov\n",
    "chr1    0       0\n",
    "chr1    0       0\n",
    "chr1    0       0\n",
    "chr1    0       0\n",
    "chr1    0       0\n",
    "chr1    0       0\n",
    "chr1    0       0\n",
    "chr1    0       0\n",
    "chr1    0       0"
   ]
  },
  {
   "cell_type": "markdown",
   "id": "98f6b009-9d0e-4904-aaa2-69bbc07c37ba",
   "metadata": {},
   "source": [
    "view FC_E17a_3C_1-1-I3-F13.cz together with reference"
   ]
  },
  {
   "cell_type": "raw",
   "id": "f2875265-1f3f-43dd-873c-cd2eb1b5a378",
   "metadata": {},
   "source": [
    "czip Reader -I FC_E17a_3C_1-1-I3-F13.cz view -s 0 -r ~/Ref/mm10/annotations/mm10_with_chrL.allc.cz |head"
   ]
  },
  {
   "cell_type": "raw",
   "id": "866f34b8-695a-4694-85d2-bbc4741ff56e",
   "metadata": {},
   "source": [
    "chrom   pos     strand  context mc      cov\n",
    "chr1    3000003 +       CTG     0       0\n",
    "chr1    3000005 -       CAG     0       0\n",
    "chr1    3000009 +       CTA     0       0\n",
    "chr1    3000016 -       CAA     0       0\n",
    "chr1    3000018 -       CAC     0       0\n",
    "chr1    3000019 -       CCA     0       0\n",
    "chr1    3000023 +       CTT     0       0\n",
    "chr1    3000027 -       CAA     0       0\n",
    "chr1    3000029 -       CTC     0       0"
   ]
  },
  {
   "cell_type": "markdown",
   "id": "b588915a-ce89-4375-a9eb-fc4666cf6ce3",
   "metadata": {},
   "source": [
    "### Query"
   ]
  },
  {
   "cell_type": "markdown",
   "id": "a49609fb-0608-44f8-95d4-bbea79f81443",
   "metadata": {},
   "source": [
    "#### query allc.tsv.gz using tabix"
   ]
  },
  {
   "cell_type": "raw",
   "id": "a2c59cf8-2983-40fe-9b35-1210c983744c",
   "metadata": {},
   "source": [
    "tabix FC_E17a_3C_1-1-I3-F13.allc.tsv.gz chr9 | awk '$5 > 50' |head"
   ]
  },
  {
   "cell_type": "raw",
   "id": "cceea864-07a7-4ab7-88d2-42e326ca3d8b",
   "metadata": {},
   "source": [
    "chr9    3000294 -       CAT     54      63      1\n",
    "chr9    3000342 -       CGA     69      85      1\n",
    "chr9    3000354 -       CGT     77      82      1\n",
    "chr9    3000381 +       CGT     52      64      1\n",
    "chr9    3000382 -       CGG     74      87      1\n",
    "chr9    3000399 +       CGA     66      67      1\n",
    "chr9    3000441 +       CGT     84      138     1\n",
    "chr9    3000457 +       CGT     139     162     1\n",
    "chr9    3000458 -       CGA     64      74      1\n",
    "chr9    3000472 +       CGT     161     183     1"
   ]
  },
  {
   "cell_type": "markdown",
   "id": "d09d4103-0b69-4b25-be60-c388ec0254db",
   "metadata": {},
   "source": [
    "#### query allc.cz using czip"
   ]
  },
  {
   "cell_type": "raw",
   "id": "7ea1d227-1921-4d2c-a89b-f64f779486e0",
   "metadata": {},
   "source": [
    "czip Reader -I FC_E17a_3C_1-1-I3-F13.cz query -r ~/Ref/mm10/annotations/mm10_with_chrL.allc.cz -D chr9 -s 3000294 -e 3000472 |awk '$5>50'"
   ]
  },
  {
   "cell_type": "raw",
   "id": "411366eb-039c-421a-9967-b328fd8ce66b",
   "metadata": {},
   "source": [
    "chrom   pos     strand  context mc      cov\n",
    "chr9    3000294 -       CAT     54      63\n",
    "chr9    3000342 -       CGA     69      85\n",
    "chr9    3000354 -       CGT     77      82\n",
    "chr9    3000381 +       CGT     52      64\n",
    "chr9    3000382 -       CGG     74      87\n",
    "chr9    3000399 +       CGA     66      67\n",
    "chr9    3000441 +       CGT     84      138\n",
    "chr9    3000457 +       CGT     139     162\n",
    "chr9    3000458 -       CGA     64      74\n",
    "chr9    3000472 +       CGT     161     183"
   ]
  },
  {
   "cell_type": "markdown",
   "id": "1cdafe6b",
   "metadata": {},
   "source": [
    "## Cat multiple .cz files into one .cz file"
   ]
  },
  {
   "cell_type": "code",
   "execution_count": null,
   "id": "72aed6c5-5b1a-4d79-b93c-43029d1481a1",
   "metadata": {},
   "outputs": [],
   "source": [
    "czip Writer -O cat.cz -F Q,c,3s -C pos,strand,context -D chrom catcz --help"
   ]
  },
  {
   "cell_type": "raw",
   "id": "819cd849-1079-451a-9dd4-c0f6dd8d7a08",
   "metadata": {},
   "source": [
    "INFO: Showing help with the command 'czip Writer -O cat.cz -F Q,c,3s -C pos,strand,context -D chrom catcz -- --help'.\n",
    "\n",
    "NAME\n",
    "    czip Writer -O cat.cz -F Q,c,3s -C pos,strand,context -D chrom catcz - Cat multiple .cz files into one .cz file.\n",
    "\n",
    "SYNOPSIS\n",
    "    czip Writer -O cat.cz -F Q,c,3s -C pos,strand,context -D chrom catcz <flags>\n",
    "\n",
    "DESCRIPTION\n",
    "    Cat multiple .cz files into one .cz file.\n",
    "\n",
    "FLAGS\n",
    "    -I, --Input=INPUT\n",
    "        Type: Optional[]\n",
    "        Default: None\n",
    "        Either a str (including *, as input for glob, should be inside the double quotation marks if using fire) or a list.\n",
    "    -d, --dim_order=DIM_ORDER\n",
    "        Type: Optional[]\n",
    "        Default: None\n",
    "        If dim_order=None, Input will be sorted using python sorted. If dim_order is a list, tuple or array of basename.rstrip(.cz), sorted as dim_order. If dim_order is a file path (for example, chrom size path to dim_order chroms or only use selected chroms) will be sorted as the 1st column of the input file path (without header, tab-separated). default is None\n",
    "    -a, --add_dim=ADD_DIM\n",
    "        Default: False\n",
    "        whether to add .cz file names as an new dimension to the merged .cz file. For example, we have multiple .cz files for many cells, in each .cz file, the dimensions are ['chrom'], after merged, we would like to add file name of .cz as a new dimension ['cell_id']. In this case, the dimensions in the merged header would be [\"chrom\",\"cell_id\"], and in each chunk, in addition to the previous dim ['chr1'] or ['chr22'].., a new dim would also be append to the previous dim, like ['chr1','cell_1'], ['chr22','cell_100'].\n",
    "\n",
    "        However, if add_dim is a function, the input to this function is the .cz file basename, the returned value from this funcion would be used as new dim and added into the chunk_dims. The default function to convert filename to dim name is self.create_new_dim.\n",
    "    -t, --title=TITLE\n",
    "        Default: 'filename'\n",
    "        if add_dim is True or a python function, title would be append to the header['Dimensions'] of the merged .cz file's header. If the title of new dimension had already given in Writer Dimensions, title can be None, otherwise, title should be provided."
   ]
  },
  {
   "cell_type": "raw",
   "id": "51d731b3-f43c-42dd-acce-69c78e3bca82",
   "metadata": {},
   "source": [
    "czip Writer -O mm10_with_chrL.allc.cz -F Q,c,3s -C pos,strand,context -D chrom catcz -I \"cell_type/*.cz\" \\\n",
    "            --dim_order ~/Ref/mm10/mm10_ucsc_with_chrL.chrom.sizes --add_dim True --title \"cell_id\""
   ]
  },
  {
   "cell_type": "raw",
   "id": "1e233fc1-b037-451d-b06b-81d3748e5d68",
   "metadata": {},
   "source": [
    "In this example, we cat multiple .cz file into one .cz file and add another dimension to each chunk (cell_id)"
   ]
  },
  {
   "cell_type": "markdown",
   "id": "3334dae7-ae66-4bca-8957-e28031b57a65",
   "metadata": {},
   "source": [
    "## Extract CG from .cz and merge strand"
   ]
  },
  {
   "cell_type": "raw",
   "id": "1490e80c-a04a-4726-b359-6fbbf5fef4e6",
   "metadata": {},
   "source": [
    "czip extractCG --help"
   ]
  },
  {
   "cell_type": "raw",
   "id": "75313501-6533-4391-a768-c5f9ed93bd9e",
   "metadata": {},
   "source": [
    "INFO: Showing help with the command 'czip extractCG -- --help'.\n",
    "\n",
    "NAME\n",
    "    czip extractCG\n",
    "\n",
    "SYNOPSIS\n",
    "    czip extractCG <flags>\n",
    "\n",
    "FLAGS\n",
    "    -i, --input=INPUT\n",
    "        Type: Optional[]\n",
    "        Default: None\n",
    "    -o, --outfile=OUTFILE\n",
    "        Type: Optional[]\n",
    "        Default: None\n",
    "    -s, --ssi=SSI\n",
    "        Type: Optional[]\n",
    "        Default: None\n",
    "        ssi should be ssi to mm10_with_chrL.allc.cz.CGN.ssi, not forward strand ssi, but after merge (if merge_strand is True), forward ssi mm10_with_chrL.allc.cz.+CGN.ssi should be used to generate reference, one can\n",
    "    -c, --chunksize=CHUNKSIZE\n",
    "        Default: 5000\n",
    "    -m, --merge_strand=MERGE_STRAND\n",
    "        Default: True\n",
    "        after merging, only forward strand would be kept, reverse strand values would be added to the corresponding forward strand."
   ]
  },
  {
   "cell_type": "code",
   "execution_count": null,
   "id": "807a7914-cc6c-4830-a59f-cf04cceeb168",
   "metadata": {},
   "outputs": [],
   "source": [
    "czip extractCG -i cz/FC_P13a_3C_2-1-E5-D13.cz -o FC_P13a_3C_2-1-E5-D13.CGN.cz -s ~/Ref/mm10/annotations/mm10_with_chrL.allc.cz.CGN.ssi\n",
    "\n",
    "# view CG .cz\n",
    "czip Reader -I FC_P13a_3C_2-1-E5-D13.CGN.cz view -s 0 -r ~/Ref/mm10/annotations/mm10_with_chrL.allCG.forward.cz"
   ]
  },
  {
   "cell_type": "markdown",
   "id": "a44ee6da-9a4c-4dca-be9d-9b70230bc4bf",
   "metadata": {},
   "source": [
    "## Merge multiple .cz files into one .cz file"
   ]
  },
  {
   "cell_type": "raw",
   "id": "dc9cff20-2b61-402d-b3e7-ada472c86d62",
   "metadata": {},
   "source": [
    "czip merge_cz --help"
   ]
  },
  {
   "cell_type": "raw",
   "id": "354dcf7b-cd85-4f33-8180-30c9793e324e",
   "metadata": {},
   "source": [
    "INFO: Showing help with the command 'czip merge_cz -- --help'.\n",
    "\n",
    "NAME\n",
    "    czip merge_cz\n",
    "\n",
    "SYNOPSIS\n",
    "    czip merge_cz <flags>\n",
    "\n",
    "FLAGS\n",
    "    -i, --indir=INDIR\n",
    "        Type: Optional[]\n",
    "        Default: None\n",
    "    -c, --cz_paths=CZ_PATHS\n",
    "        Type: Optional[]\n",
    "        Default: None\n",
    "    -o, --outfile=OUTFILE\n",
    "        Default: 'merged.cz'\n",
    "    -n, --n_jobs=N_JOBS\n",
    "        Default: 12\n",
    "    -f, --formats=FORMATS\n",
    "        Default: ['I', 'I']\n",
    "    -P, --Path_to_chrom=PATH_TO_CHROM\n",
    "        Default...\n",
    "    -k, --keep_cat=KEEP_CAT\n",
    "        Default: False\n",
    "    -b, --batchsize=BATCHSIZE\n",
    "        Default: 10"
   ]
  },
  {
   "cell_type": "raw",
   "id": "107db1f2-05cf-4a4b-9ab6-1176ad84aaa6",
   "metadata": {},
   "source": [
    "czip merge_mz -i cz-CGN/ -o merged.cz"
   ]
  },
  {
   "cell_type": "markdown",
   "id": "3870f546-3f79-4b47-9bc2-d52841260f3b",
   "metadata": {},
   "source": [
    "## Merge .cz files belonging to the same cell type"
   ]
  },
  {
   "cell_type": "raw",
   "id": "10fd535e-486a-4086-8998-c810503e0d8c",
   "metadata": {},
   "source": [
    "czip merge_cell_type --help"
   ]
  },
  {
   "cell_type": "raw",
   "id": "012d9b4c-e35a-42d5-a0c4-99d112160905",
   "metadata": {},
   "source": [
    "INFO: Showing help with the command 'czip merge_cell_type -- --help'.\n",
    "\n",
    "NAME\n",
    "    czip merge_cell_type\n",
    "\n",
    "SYNOPSIS\n",
    "    czip merge_cell_type <flags>\n",
    "\n",
    "FLAGS\n",
    "    -i, --indir=INDIR\n",
    "        Type: Optional[]\n",
    "        Default: None\n",
    "    -c, --cell_table=CELL_TABLE\n",
    "        Type: Optional[]\n",
    "        Default: None\n",
    "    -o, --outdir=OUTDIR\n",
    "        Type: Optional[]\n",
    "        Default: None\n",
    "    -n, --n_jobs=N_JOBS\n",
    "        Default: 64\n",
    "    -P, --Path_to_chrom=PATH_TO_CHROM\n",
    "        Type: Optional[]\n",
    "        Default: None\n",
    "    -e, --ext=EXT\n",
    "        Default: '.CGN.merged.cz'"
   ]
  },
  {
   "cell_type": "markdown",
   "id": "936cf9d7",
   "metadata": {},
   "source": [
    "## Run czip extractCG on GCP"
   ]
  },
  {
   "cell_type": "code",
   "execution_count": null,
   "id": "80f6fed5-c8ab-454c-b91c-2b9a269cf396",
   "metadata": {},
   "outputs": [],
   "source": [
    "pip show czip"
   ]
  },
  {
   "cell_type": "raw",
   "id": "a5680f23-6a84-4784-a154-2a231d7f6e3d",
   "metadata": {},
   "source": [
    "snakemake --use-conda --printshellcmds -s ~/MySnakemake/workflow/rules/extractCG.smk \\\n",
    "          --config algorithm=\"bmzip\" indir=test_mz files_path=mz.path\".0$SKYPILOT_NODE_RANK\" \\\n",
    "          outdir=pfc_mz-CGN bmi=mm10_with_chrL.allc.mz.CGN.bmi bmi_prefix=gs://wubin_ref/mm10/annotations \\\n",
    "          gcp=True --default-remote-prefix mouse_pfc --default-remote-provider GS \\\n",
    "          --google-lifesciences-region us-west1 --scheduler greedy -j 96"
   ]
  }
 ],
 "metadata": {
  "kernelspec": {
   "display_name": "Python 3.9 (Default)",
   "language": "python",
   "name": "python3"
  },
  "language_info": {
   "codemirror_mode": {
    "name": "ipython",
    "version": 3
   },
   "file_extension": ".py",
   "mimetype": "text/x-python",
   "name": "python",
   "nbconvert_exporter": "python",
   "pygments_lexer": "ipython3",
   "version": "3.9.7"
  }
 },
 "nbformat": 4,
 "nbformat_minor": 5
}
