{
 "cells": [
  {
   "cell_type": "markdown",
   "id": "63bc8cf4-2729-426f-b250-3689df6414eb",
   "metadata": {},
   "source": [
    "## 1. Installation"
   ]
  },
  {
   "cell_type": "raw",
   "id": "217553e5-61cd-4b58-acb1-974e8bcd4185",
   "metadata": {},
   "source": [
    "pip install czip\n",
    "\n",
    "# or\n",
    "\n",
    "pip install git+https://github.com/DingWB/czip.git"
   ]
  },
  {
   "cell_type": "raw",
   "id": "e4525c38-34d9-4fb3-babd-8b75a3a0f32d",
   "metadata": {},
   "source": [
    "czip --help\n",
    "\n",
    "INFO: Showing help with the command 'czip -- --help'.\n",
    "\n",
    "NAME\n",
    "    czip\n",
    "\n",
    "SYNOPSIS\n",
    "    czip COMMAND\n",
    "\n",
    "COMMANDS\n",
    "    COMMAND is one of the following:\n",
    "\n",
    "     Writer\n",
    "\n",
    "     Reader\n",
    "\n",
    "     AllC\n",
    "\n",
    "     allc2cz\n",
    "       convert allc.tsv.gz to .cz file.\n",
    "\n",
    "     test_diff\n",
    "\n",
    "     generate_ssi\n",
    "       Generate ssi (subset index) for a given input .cz\n",
    "\n",
    "     merge_cz\n",
    "\n",
    "     merge_cell_type\n",
    "\n",
    "     extract\n",
    "\n",
    "     extractCG"
   ]
  },
  {
   "cell_type": "markdown",
   "id": "4534bf44-0bc6-429b-81b9-756e1729cfb6",
   "metadata": {},
   "source": [
    "## 2.Writer"
   ]
  },
  {
   "cell_type": "raw",
   "id": "a3423a35-dc26-488b-bed9-a9ea6fa4c6eb",
   "metadata": {},
   "source": [
    "czip Writer --help\n",
    "\n",
    "INFO: Showing help with the command 'czip Writer -- --help'.\n",
    "\n",
    "NAME\n",
    "    czip Writer\n",
    "\n",
    "SYNOPSIS\n",
    "    czip Writer COMMAND | <flags>\n",
    "\n",
    "FLAGS\n",
    "    -O, --Output=OUTPUT\n",
    "        Type: Optional[]\n",
    "        Default: None\n",
    "    --mode=MODE\n",
    "        Default: 'wb'\n",
    "    -F, --Formats=FORMATS\n",
    "        Default: ['H', 'H']\n",
    "    -C, --Columns=COLUMNS\n",
    "        Default: ['mc', 'cov']\n",
    "    -D, --Dimensions=DIMENSIONS\n",
    "        Default: ['chrom']\n",
    "    -f, --fileobj=FILEOBJ\n",
    "        Type: Optional[]\n",
    "        Default: None\n",
    "    --message=MESSAGE\n",
    "        Default: ''\n",
    "    -l, --level=LEVEL\n",
    "        Default: 6\n",
    "    -v, --verbose=VERBOSE\n",
    "        Default: 0"
   ]
  },
  {
   "cell_type": "markdown",
   "id": "80d470b9-9759-4946-afde-ecf342dfe9b2",
   "metadata": {},
   "source": [
    "To see python format, check https://python.readthedocs.io/en/v2.7.2/library/struct.html#format-characters"
   ]
  },
  {
   "cell_type": "code",
   "execution_count": 1,
   "id": "7b5b0a5f-eb93-4661-8a9b-d66b7f879e75",
   "metadata": {},
   "outputs": [
    {
     "name": "stdout",
     "output_type": "stream",
     "text": [
      "\u001B[1mNAME\u001B[0m\n",
      "    czip Writer\n",
      "\n",
      "\u001B[1mSYNOPSIS\u001B[0m\n",
      "    czip Writer \u001B[4mCOMMAND\u001B[0m | <flags>\n",
      "\n",
      "\u001B[1mFLAGS\u001B[0m\n",
      "    -O, --Output=\u001B[4mOUTPUT\u001B[0m\n",
      "        Type: Optional[]\n",
      "        Default: None\n",
      "    --mode=\u001B[4mMODE\u001B[0m\n",
      "        Default: 'wb'\n",
      "    -F, --Formats=\u001B[4mFORMATS\u001B[0m\n",
      "        Default: ['H', 'H']\n",
      "    -C, --Columns=\u001B[4mCOLUMNS\u001B[0m\n",
      "        Default: ['mc', 'cov']\n",
      "    -D, --Dimensions=\u001B[4mDIMENSIONS\u001B[0m\n",
      "        Default: ['chrom']\n",
      "    -f, --fileobj=\u001B[4mFILEOBJ\u001B[0m\n",
      "        Type: Optional[]\n",
      "        Default: None\n",
      "    --message=\u001B[4mMESSAGE\u001B[0m\n",
      "        Default: ''\n",
      "    -l, --level=\u001B[4mLEVEL\u001B[0m\n",
      "        Default: 6\n",
      "    -v, --verbose=\u001B[4mVERBOSE\u001B[0m\n",
      "        Default: 0\n",
      "\n",
      "\u001B[1mCOMMANDS\u001B[0m\n",
      "    \u001B[1m\u001B[4mCOMMAND\u001B[0m\u001B[0m is one of the following:\n",
      "\n",
      "     create_new_dim\n"
     ]
    }
   ],
   "source": [
    "czip Writer -- --help"
   ]
  },
  {
   "cell_type": "code",
   "execution_count": 2,
   "id": "f2449820-3bf6-4bfa-ad04-8b39a3976b99",
   "metadata": {},
   "outputs": [
    {
     "name": "stdout",
     "output_type": "stream",
     "text": [
      "\u001B[1mNAME\u001B[0m\n",
      "    czip Writer -O test1.mz -D chrom -C pos,strand,context,mc,cov -F Q,c,3s,H,H\n",
      "\n",
      "\u001B[1mSYNOPSIS\u001B[0m\n",
      "    czip Writer -O test1.mz -D chrom -C pos,strand,context,mc,cov -F Q,c,3s,H,H - \u001B[4mGROUP\u001B[0m | \u001B[4mCOMMAND\u001B[0m | \u001B[4mVALUE\u001B[0m\n",
      "\n",
      "\u001B[1mGROUPS\u001B[0m\n",
      "    \u001B[1m\u001B[4mGROUP\u001B[0m\u001B[0m is one of the following:\n",
      "\n",
      "     Columns\n",
      "\n",
      "     Dimensions\n",
      "\n",
      "     Formats\n",
      "\n",
      "\u001B[1mCOMMANDS\u001B[0m\n",
      "    \u001B[1m\u001B[4mCOMMAND\u001B[0m\u001B[0m is one of the following:\n",
      "\n",
      "     catcz\n",
      "       Cat multiple .cz files into one .cz file.\n",
      "\n",
      "     close\n",
      "       Flush data, write 28 bytes BGZF EOF marker, and close BGZF file.\n",
      "\n",
      "     create_new_dim\n",
      "\n",
      "     fileno\n",
      "       Return integer file descriptor.\n",
      "\n",
      "     flush\n",
      "       Flush data explicitally.\n",
      "\n",
      "     isatty\n",
      "       Return True if connected to a TTY device.\n",
      "\n",
      "     seekable\n",
      "\n",
      "     tell\n",
      "       Return a BGZF 64-bit virtual offset.\n",
      "\n",
      "     tocz\n",
      "       Pack dataframe, stdin or a file path into .cz file with or without reference coordinates file.\n",
      "\n",
      "     write_chunk\n",
      "       Write data into one chunk with dimension name (such as ['cell1','chr1'])\n",
      "\n",
      "     write_header\n",
      "\n",
      "\u001B[1mVALUES\u001B[0m\n",
      "    \u001B[1m\u001B[4mVALUE\u001B[0m\u001B[0m is one of the following:\n",
      "\n",
      "     Output\n",
      "       if None (default) bytes stream would be written to stdout.\n",
      "\n",
      "     fmts\n",
      "\n",
      "     level\n",
      "       compress level (default is 6)\n",
      "\n",
      "     message\n",
      "       a message to be included in the header, a genome assemble version is highly recommended to be set as message.\n",
      "\n",
      "     verbose\n",
      "       whether to print debug information\n"
     ]
    }
   ],
   "source": [
    "czip Writer -O test1.mz -D chrom -C pos,strand,context,mc,cov -F Q,c,3s,H,H -- --help"
   ]
  },
  {
   "cell_type": "code",
   "execution_count": 3,
   "id": "d693838a-9fae-428b-a337-612cca59cdfe",
   "metadata": {},
   "outputs": [
    {
     "name": "stdout",
     "output_type": "stream",
     "text": [
      "INFO: Showing help with the command 'czip Writer -O test1.mz -D chrom -C pos,strand,context,mc,cov -F Q,c,3s,H,H tocz -- --help'.\n",
      "\n",
      "\u001B[1mNAME\u001B[0m\n",
      "    czip Writer -O test1.mz -D chrom -C pos,strand,context,mc,cov -F Q,c,3s,H,H tocz - Pack dataframe, stdin or a file path into .cz file with or without reference coordinates file.\n",
      "\n",
      "\u001B[1mSYNOPSIS\u001B[0m\n",
      "    czip Writer -O test1.mz -D chrom -C pos,strand,context,mc,cov -F Q,c,3s,H,H tocz <flags>\n",
      "\n",
      "\u001B[1mDESCRIPTION\u001B[0m\n",
      "    Pack dataframe, stdin or a file path into .cz file with or without reference coordinates file.\n",
      "\n",
      "\u001B[1mFLAGS\u001B[0m\n",
      "    -I, --Input=\u001B[4mINPUT\u001B[0m\n",
      "        Type: Optional[]\n",
      "        Default: None\n",
      "        list, tuple, np.ndarray or dataframe, stdin (Input is None, \"stdin\" or \"-\"), or a file path (need to specify sep,header and skiprows).\n",
      "    -u, --usecols=\u001B[4mUSECOLS\u001B[0m\n",
      "        Default: [4, 5]\n",
      "        usecols is the index of columns to be packed into .cz Columns.\n",
      "    -d, --dim_cols=\u001B[4mDIM_COLS\u001B[0m\n",
      "        Default: [0]\n",
      "        index of columns to be set as Dimensions of Writer, such as chrom columns.\n",
      "    --sep=\u001B[4mSEP\u001B[0m\n",
      "        Default: '\\t'\n",
      "        defauls is \"        \", used as separator for the input file path.\n",
      "    -c, --chunksize=\u001B[4mCHUNKSIZE\u001B[0m\n",
      "        Default: 5000\n",
      "        Chunk Input dataframe of file path.\n",
      "    -h, --header=\u001B[4mHEADER\u001B[0m\n",
      "        Type: Optional[]\n",
      "        Default: None\n",
      "        whether the input file path contain header.\n",
      "    --skiprows=\u001B[4mSKIPROWS\u001B[0m\n",
      "        Default: 0\n",
      "        number of rows to skip for input file path.\n"
     ]
    }
   ],
   "source": [
    "czip Writer -O test1.mz -D chrom -C pos,strand,context,mc,cov -F Q,c,3s,H,H tocz --help"
   ]
  },
  {
   "cell_type": "code",
   "execution_count": 6,
   "id": "9c2b3226-5f08-4747-a99b-f670d613b09f",
   "metadata": {},
   "outputs": [
    {
     "name": "stdout",
     "output_type": "stream",
     "text": [
      "chr1\t3001733\t+\tCTG\t0\t1\t1\n",
      "chr1\t3001743\t+\tCAA\t0\t1\t1\n",
      "chr1\t3001746\t+\tCCT\t0\t1\t1\n",
      "chr1\t3001747\t+\tCTG\t0\t1\t1\n",
      "chr8\t3002093\t-\tCTG\t0\t1\t1\n",
      "chr8\t3002098\t-\tCAA\t0\t1\t1\n",
      "chr8\t3002101\t-\tCAG\t0\t1\t1\n",
      "chr8\t3002102\t-\tCCA\t0\t1\t1\n",
      "chr8\t3002103\t-\tCCC\t0\t1\t1\n"
     ]
    }
   ],
   "source": [
    "cat test1.bed"
   ]
  },
  {
   "cell_type": "code",
   "execution_count": 7,
   "id": "86a508b0-c35a-4871-905a-b7f30a8b9933",
   "metadata": {},
   "outputs": [],
   "source": [
    "czip Writer -O test1.mz -D chrom -C pos,strand,context,mc,cov -F Q,c,3s,H,H tocz -I test1.bed -u 1,2,3,4,5"
   ]
  },
  {
   "cell_type": "markdown",
   "id": "812dbe63-d723-4ebf-bb96-254c04f46553",
   "metadata": {},
   "source": [
    "# 2. Reader"
   ]
  },
  {
   "cell_type": "markdown",
   "id": "21fad98e-41cd-4b9c-a7a9-ec23ddd45553",
   "metadata": {},
   "source": [
    "view test1.mz"
   ]
  },
  {
   "cell_type": "code",
   "execution_count": 8,
   "id": "4a2a7201-075e-4881-b2ab-38d2a24c78e3",
   "metadata": {},
   "outputs": [
    {
     "name": "stdout",
     "output_type": "stream",
     "text": [
      "chrom\tpos\tstrand\tcontext\tmc\tcov\n",
      "chr1\t3001733\t+\tCTG\t0\t1\n",
      "chr1\t3001743\t+\tCAA\t0\t1\n",
      "chr1\t3001746\t+\tCCT\t0\t1\n",
      "chr1\t3001747\t+\tCTG\t0\t1\n",
      "chr8\t3002093\t-\tCTG\t0\t1\n",
      "chr8\t3002098\t-\tCAA\t0\t1\n",
      "chr8\t3002101\t-\tCAG\t0\t1\n",
      "chr8\t3002102\t-\tCCA\t0\t1\n",
      "chr8\t3002103\t-\tCCC\t0\t1\n"
     ]
    }
   ],
   "source": [
    "czip Reader -I test1.mz view -s 0 test1.mz"
   ]
  },
  {
   "cell_type": "markdown",
   "id": "e06d8090-906c-400f-8c1d-b6eaa7e94fd3",
   "metadata": {},
   "source": [
    "To reduct the file size, we can pack columns 2-4 into reference.mz and 5-6 into test1.mz <br>\n",
    "This will be useful when we have lots of samples or cells sharing the same reference"
   ]
  },
  {
   "cell_type": "code",
   "execution_count": 10,
   "id": "6ec0cd24-281f-4c45-aaf2-b9acca700670",
   "metadata": {},
   "outputs": [],
   "source": [
    "cut -f 1-4 test1.bed | czip Writer -O ref.mz -D chrom -C pos,strand,context -F Q,c,3s tocz -I stdin -u 1,2,3"
   ]
  },
  {
   "cell_type": "code",
   "execution_count": 12,
   "id": "8fcee21f-5759-4521-a6f6-e1fb0d8e98fc",
   "metadata": {},
   "outputs": [],
   "source": [
    "cut -f 1,5,6 test1.bed | czip Writer -O test2.mz -D chrom -C mc,cov -F H,H tocz -I stdin -u 1,2"
   ]
  },
  {
   "cell_type": "code",
   "execution_count": 11,
   "id": "9db8ccdf-3b77-46f4-a31f-1f7c7cb77f2b",
   "metadata": {},
   "outputs": [
    {
     "name": "stdout",
     "output_type": "stream",
     "text": [
      "chrom\tpos\tstrand\tcontext\n",
      "chr1\t3001733\t+\tCTG\n",
      "chr1\t3001743\t+\tCAA\n",
      "chr1\t3001746\t+\tCCT\n",
      "chr1\t3001747\t+\tCTG\n",
      "chr8\t3002093\t-\tCTG\n",
      "chr8\t3002098\t-\tCAA\n",
      "chr8\t3002101\t-\tCAG\n",
      "chr8\t3002102\t-\tCCA\n",
      "chr8\t3002103\t-\tCCC\n"
     ]
    }
   ],
   "source": [
    "czip Reader -I ref.mz view -s 0"
   ]
  },
  {
   "cell_type": "code",
   "execution_count": 14,
   "id": "8cb1c7e7-32d6-475c-b1b2-c6d80382aefe",
   "metadata": {},
   "outputs": [
    {
     "name": "stdout",
     "output_type": "stream",
     "text": [
      "mc\tcov\n",
      "0\t1\n",
      "0\t1\n",
      "0\t1\n",
      "0\t1\n",
      "0\t1\n",
      "0\t1\n",
      "0\t1\n",
      "0\t1\n",
      "0\t1\n"
     ]
    }
   ],
   "source": [
    "czip Reader -I test2.mz view"
   ]
  },
  {
   "cell_type": "markdown",
   "id": "45e256b4-dca8-470b-a906-bc9ccce03c91",
   "metadata": {},
   "source": [
    "view test2.mz together with ref.mz"
   ]
  },
  {
   "cell_type": "code",
   "execution_count": 26,
   "id": "464c135e-279f-4bed-a52a-3302c0d7d004",
   "metadata": {},
   "outputs": [
    {
     "name": "stdout",
     "output_type": "stream",
     "text": [
      "chrom\tpos\tstrand\tcontext\tmc\tcov\n",
      "chr1\t3001733\t+\tCTG\t0\t1\n",
      "chr1\t3001743\t+\tCAA\t0\t1\n",
      "chr1\t3001746\t+\tCCT\t0\t1\n",
      "chr1\t3001747\t+\tCTG\t0\t1\n",
      "chr8\t3002093\t-\tCTG\t0\t1\n",
      "chr8\t3002098\t-\tCAA\t0\t1\n",
      "chr8\t3002101\t-\tCAG\t0\t1\n",
      "chr8\t3002102\t-\tCCA\t0\t1\n",
      "chr8\t3002103\t-\tCCC\t0\t1\n"
     ]
    }
   ],
   "source": [
    "czip Reader -I test2.mz view -s 0 -r ref.mz"
   ]
  },
  {
   "cell_type": "markdown",
   "id": "fc6718f1-c5e2-4166-a8ba-0c3a3b052f92",
   "metadata": {},
   "source": [
    "Only view one chrom (dimension)"
   ]
  },
  {
   "cell_type": "code",
   "execution_count": 27,
   "id": "08e32cd9-dfb0-4367-b422-439e9c656cfb",
   "metadata": {},
   "outputs": [
    {
     "name": "stdout",
     "output_type": "stream",
     "text": [
      "chrom\tpos\tstrand\tcontext\tmc\tcov\n",
      "chr8\t3002093\t-\tCTG\t0\t1\n",
      "chr8\t3002098\t-\tCAA\t0\t1\n",
      "chr8\t3002101\t-\tCAG\t0\t1\n",
      "chr8\t3002102\t-\tCCA\t0\t1\n",
      "chr8\t3002103\t-\tCCC\t0\t1\n"
     ]
    }
   ],
   "source": [
    "czip Reader -I test2.mz view -s 0 -r ref.mz -D chr8"
   ]
  },
  {
   "cell_type": "markdown",
   "id": "9629b733-1875-41d6-960d-7b5e72a13ec6",
   "metadata": {},
   "source": [
    "# 3. Query"
   ]
  },
  {
   "cell_type": "code",
   "execution_count": 29,
   "id": "afb8c1e0-2113-42ab-a2d3-c316784579a8",
   "metadata": {},
   "outputs": [
    {
     "name": "stdout",
     "output_type": "stream",
     "text": [
      "INFO: Showing help with the command 'czip Reader -I test2.mz query -- --help'.\n",
      "\n",
      "\u001B[1mNAME\u001B[0m\n",
      "    czip Reader -I test2.mz query - query .cz file by Dimension, start and end, if regions provided, Dimension, start and end should be None, regions should be a list, each element of regions is a list, for example, regions=[[('cell1','chr1'),1,10], [('cell10','chr22'),100,200]],and so on.\n",
      "\n",
      "\u001B[1mSYNOPSIS\u001B[0m\n",
      "    czip Reader -I test2.mz query <flags>\n",
      "\n",
      "\u001B[1mDESCRIPTION\u001B[0m\n",
      "    query .cz file by Dimension, start and end, if regions provided, Dimension, start and end should be None, regions should be a list, each element of regions is a list, for example, regions=[[('cell1','chr1'),1,10], [('cell10','chr22'),100,200]],and so on.\n",
      "\n",
      "\u001B[1mFLAGS\u001B[0m\n",
      "    -D, --Dimension=\u001B[4mDIMENSION\u001B[0m\n",
      "        Type: Optional[]\n",
      "        Default: None\n",
      "        dimension, such as chr1 (if Dimensions 'chrom' is inlcuded in header['Dimensions']), or sample1 (if something like 'sampleID' is included in header['Dimensions'] and chunk contains such dimension)\n",
      "    -s, --start=\u001B[4mSTART\u001B[0m\n",
      "        Type: Optional[]\n",
      "        Default: None\n",
      "        start position, if None, the entire Dimension would be returned.\n",
      "    -e, --end=\u001B[4mEND\u001B[0m\n",
      "        Type: Optional[]\n",
      "        Default: None\n",
      "        end position\n",
      "    -R, --Regions=\u001B[4mREGIONS\u001B[0m\n",
      "        Type: Optional[]\n",
      "        Default: None\n",
      "    -q, --query_col=\u001B[4mQUERY_COL\u001B[0m\n",
      "        Default: [0]\n",
      "        index of columns (header['Columns']) to be queried,for example, if header['Columns']=['pos','mv','cov'], then pos is what we want to query, so query_col should be [0], but if header['Columns']=['start','end','peak'], then start and end are what we would like to query, query_col should be [0,1]\n",
      "    -r, --reference=\u001B[4mREFERENCE\u001B[0m\n",
      "        Type: Optional[]\n",
      "        Default: None\n",
      "    -p, --printout=\u001B[4mPRINTOUT\u001B[0m\n",
      "        Default: True\n"
     ]
    }
   ],
   "source": [
    "czip Reader -I test2.mz query --help"
   ]
  },
  {
   "cell_type": "code",
   "execution_count": 28,
   "id": "c9c25e32-f37f-4df4-8404-c86bf6214971",
   "metadata": {},
   "outputs": [
    {
     "name": "stdout",
     "output_type": "stream",
     "text": [
      "chrom\tpos\tstrand\tcontext\tmc\tcov\n",
      "chr8\t3002101\t-\tCAG\t0\t1\n",
      "chr8\t3002102\t-\tCCA\t0\t1\n"
     ]
    }
   ],
   "source": [
    "czip Reader -I test2.mz query -D chr8 -s 3002101 -e 3002102 -r ref.mz"
   ]
  }
 ],
 "metadata": {
  "kernelspec": {
   "display_name": "yap",
   "language": "python",
   "name": "yap"
  },
  "language_info": {
   "codemirror_mode": {
    "name": "ipython",
    "version": 3
   },
   "file_extension": ".py",
   "mimetype": "text/x-python",
   "name": "python",
   "nbconvert_exporter": "python",
   "pygments_lexer": "ipython3",
   "version": "3.8.18"
  }
 },
 "nbformat": 4,
 "nbformat_minor": 5
}