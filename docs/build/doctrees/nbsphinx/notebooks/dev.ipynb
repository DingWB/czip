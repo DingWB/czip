{
 "cells": [
  {
   "cell_type": "markdown",
   "id": "fe1094a7-1747-4b65-9084-afc4ca10d593",
   "metadata": {},
   "source": [
    "github link: [czip](https://github.com/DingWB/czip)"
   ]
  },
  {
   "cell_type": "code",
   "execution_count": 2,
   "id": "81885327-866a-41e2-a5d2-9acbf8acd4ff",
   "metadata": {},
   "outputs": [],
   "source": [
    "import os,sys\n",
    "%alias czip /anvil/projects/x-mcb130189/Wubin/Software/miniconda3/envs/yap/bin/czip"
   ]
  },
  {
   "cell_type": "markdown",
   "id": "4534bf44-0bc6-429b-81b9-756e1729cfb6",
   "metadata": {},
   "source": [
    "## Generate 2D subset index for a genomic region\n",
    "Instead of generating 1D subset index for CGN, CHN, in which, the IDs for the specific pattern will be written into the resulting .ssi file.\n",
    "2D subset index will create a .ssi file including a genomic region, ID start and ID end will be written."
   ]
  },
  {
   "cell_type": "code",
   "execution_count": 3,
   "id": "08a7dd1e-150a-4af3-810d-a50aafec6175",
   "metadata": {},
   "outputs": [
    {
     "name": "stdout",
     "output_type": "stream",
     "text": [
      "INFO: Showing help with the command 'czip generate_ssi2 -- --help'.\n",
      "\n",
      "\u001b[1mNAME\u001b[0m\n",
      "    czip generate_ssi2 - Generate subset index for a genomic region bed file. For example: czip generate_ssi2 -i ~/Ref/mm10/annotations/mm10_with_chrL.allc.cz         -o mm10_with_chrL.allc.genes_flank2k.ssi -b genes_flank2k.bed.gz -n 4\n",
      "\n",
      "\u001b[1mSYNOPSIS\u001b[0m\n",
      "    czip generate_ssi2 \u001b[4mINPUT\u001b[0m <flags>\n",
      "\n",
      "\u001b[1mDESCRIPTION\u001b[0m\n",
      "    Generate subset index for a genomic region bed file. For example: czip generate_ssi2 -i ~/Ref/mm10/annotations/mm10_with_chrL.allc.cz         -o mm10_with_chrL.allc.genes_flank2k.ssi -b genes_flank2k.bed.gz -n 4\n",
      "\n",
      "\u001b[1mPOSITIONAL ARGUMENTS\u001b[0m\n",
      "    \u001b[1m\u001b[4mINPUT\u001b[0m\u001b[0m\n",
      "\n",
      "\u001b[1mFLAGS\u001b[0m\n",
      "    -o, --output=\u001b[4mOUTPUT\u001b[0m\n",
      "        Type: Optional[]\n",
      "        Default: None\n",
      "    -b, --bed=\u001b[4mBED\u001b[0m\n",
      "        Type: Optional[]\n",
      "        Default: None\n",
      "    -n, --n_jobs=\u001b[4mN_JOBS\u001b[0m\n",
      "        Default: 4\n",
      "\n",
      "\u001b[1mNOTES\u001b[0m\n",
      "    You can also use flags syntax for POSITIONAL ARGUMENTS\n"
     ]
    }
   ],
   "source": [
    "czip generate_ssi2 --help"
   ]
  },
  {
   "cell_type": "markdown",
   "id": "a4dbb0da-e32d-4724-aa13-999cdef36a36",
   "metadata": {},
   "source": [
    "```shell\n",
    "czip generate_ssi2 -i ~/Ref/mm10/annotations/mm10_with_chrL.allc.cz \\\n",
    "        -o mm10_with_chrL.allc.genes_flank2k.ssi -b genes_flank2k.bed.gz -n 4\n",
    "```"
   ]
  },
  {
   "cell_type": "markdown",
   "id": "4cd23b7e-8bb7-4481-b4e1-20903d01fa60",
   "metadata": {},
   "source": [
    "## Aggregate genomic regions"
   ]
  },
  {
   "cell_type": "code",
   "execution_count": 4,
   "id": "1a91a2f9-4e17-4679-aa16-edd7e3684fdf",
   "metadata": {},
   "outputs": [
    {
     "name": "stdout",
     "output_type": "stream",
     "text": [
      "INFO: Showing help with the command 'czip aggregate -- --help'.\n",
      "\n",
      "\u001b[1mNAME\u001b[0m\n",
      "    czip aggregate - Aggregate a given genomic region on a .cz file, for example: /usr/bin/time -f \"%e    %M      %P\" czip aggregate -I test.cz -O test_gene.cz         -s mm10_with_chrL.allc.genes_flank2k.ssi\n",
      "\n",
      "\u001b[1mSYNOPSIS\u001b[0m\n",
      "    czip aggregate <flags>\n",
      "\n",
      "\u001b[1mDESCRIPTION\u001b[0m\n",
      "    Aggregate a given genomic region on a .cz file, for example: /usr/bin/time -f \"%e    %M      %P\" czip aggregate -I test.cz -O test_gene.cz         -s mm10_with_chrL.allc.genes_flank2k.ssi\n",
      "\n",
      "\u001b[1mFLAGS\u001b[0m\n",
      "    -I, --Input=\u001b[4mINPUT\u001b[0m\n",
      "        Type: Optional[]\n",
      "        Default: None\n",
      "    -O, --Outfile=\u001b[4mOUTFILE\u001b[0m\n",
      "        Type: Optional[]\n",
      "        Default: None\n",
      "    -s, --ssi=\u001b[4mSSI\u001b[0m\n",
      "        Type: Optional[]\n",
      "        Default: None\n",
      "    -i, --intersect=\u001b[4mINTERSECT\u001b[0m\n",
      "        Type: Optional[]\n",
      "        Default: None\n",
      "    -e, --exclude=\u001b[4mEXCLUDE\u001b[0m\n",
      "        Type: Optional[]\n",
      "        Default: None\n",
      "    -c, --chunksize=\u001b[4mCHUNKSIZE\u001b[0m\n",
      "        Default: 5000\n",
      "    -f, --formats=\u001b[4mFORMATS\u001b[0m\n",
      "        Default: ['H', 'H']\n"
     ]
    }
   ],
   "source": [
    "czip aggregate --help"
   ]
  },
  {
   "cell_type": "markdown",
   "id": "80aef50c-4ef9-4b37-aad2-22802c828452",
   "metadata": {},
   "source": [
    "```shell\n",
    "czip aggregate -I test.cz -O test_gene.cz \\\n",
    "        -s mm10_with_chrL.allc.genes_flank2k.ssi\n",
    "```"
   ]
  },
  {
   "cell_type": "markdown",
   "id": "39001ac7-d3cd-4dd0-8816-fd16d7fef0f3",
   "metadata": {},
   "source": [
    "In the resulting test_gene.cz, each row is a region corresponding to one gene, mc and cov are summed up for all CG/CH located at this gene."
   ]
  }
 ],
 "metadata": {
  "kernelspec": {
   "display_name": "yap",
   "language": "python",
   "name": "yap"
  },
  "language_info": {
   "codemirror_mode": {
    "name": "ipython",
    "version": 3
   },
   "file_extension": ".py",
   "mimetype": "text/x-python",
   "name": "python",
   "nbconvert_exporter": "python",
   "pygments_lexer": "ipython3",
   "version": "3.8.18"
  }
 },
 "nbformat": 4,
 "nbformat_minor": 5
}
